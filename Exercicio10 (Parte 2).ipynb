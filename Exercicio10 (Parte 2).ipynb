{
 "cells": [
  {
   "cell_type": "markdown",
   "metadata": {},
   "source": [
    "1 -  Linha: Crie a classe Linha que tem dois atributos, coordenada1 e coordenada2.\n",
    "Cada coordenada é uma tupla que carrega duas coordenadas cartesianas (x,y) que\n",
    "denotam pontos do segmento de reta. Faça métodos que calculem o comprimento\n",
    "do segmento de reta e sua inclinação."
   ]
  },
  {
   "cell_type": "code",
   "execution_count": 2,
   "metadata": {},
   "outputs": [
    {
     "name": "stdout",
     "output_type": "stream",
     "text": [
      "Resultado: 25\n"
     ]
    }
   ],
   "source": [
    "class Linha:\n",
    "    def _init_(self,c1=1,c2=1):\n",
    "        self.c1 = c1\n",
    "        self.c2 = c2\n",
    "     \n",
    "    def calculo(self,c1,c2):\n",
    "        return (c1**2 + c2**2)**2\n",
    "    \n",
    "l = Linha()\n",
    "print(\"Resultado:\", l.calculo(1,2))\n",
    "    "
   ]
  },
  {
   "cell_type": "markdown",
   "metadata": {},
   "source": [
    "2 -  Figuras: Crie a seguinte hierarquia de classes de figuras geométricas. Veja na figura\n",
    "as fórmulas:\n",
    "a. A classe abstrata Figura deve ter o método abstrato area.\n",
    "b. A classe concreta Circulo é subclasse de Figura.\n",
    "c. A classe abstrata Poligono é subclasse de Figura e deve ter os atributos base e\n",
    "altura .\n",
    "d. As classes concretas Triangulo, Losango, Retangulo e Quadrado são subclasses\n",
    "de Poligono. Tente criar mais uma generalização aqui olhando as fórmulas da área.\n",
    "e. Os polígonos Retangulo e Quadrado devem implementar a interface Diagonal,\n",
    "que deve ter um método que calcula a diagonal.\n",
    "f. Crie uma classe Geometria com uma lista de Figuras com pelo menos uma\n",
    "figura de cada e imprima suas áreas, perímetros e diagonais"
   ]
  },
  {
   "cell_type": "code",
   "execution_count": 3,
   "metadata": {},
   "outputs": [
    {
     "name": "stdout",
     "output_type": "stream",
     "text": [
      "6.28\n",
      "0.5\n"
     ]
    }
   ],
   "source": [
    "class Figuras:\n",
    "    def area(self):\n",
    "        pass\n",
    "    \n",
    "class Circulo(Figuras):\n",
    "    raio = 1\n",
    "    def _init_(self, raio):\n",
    "        self.raio = raio\n",
    "    \n",
    "    def area(self,raio):\n",
    "        return self.raio * 3.14 * 2\n",
    "    \n",
    "class Poligono(Figuras):\n",
    "    a = 1\n",
    "    b = 1\n",
    "    def _init_(self,b,a):\n",
    "        self.b = b\n",
    "        self.a = a\n",
    "        \n",
    "    def area(self,a,b):\n",
    "        return self.a * self.b / 2    \n",
    "        \n",
    "c = Circulo()\n",
    "p = Poligono()\n",
    "\n",
    "print(c.area(2))\n",
    "print(p.area(1,1))"
   ]
  },
  {
   "cell_type": "markdown",
   "metadata": {},
   "source": [
    "3- Jogo de Blacjack: Faça um joguinho simples em Python.\n",
    "Aqui estão os requisitos:\n",
    "- Você precisa criar um jogo de BlackJack (21) baseado em texto simples\n",
    "- O jogo precisa ter um jogador contra um croupier automatizado.\n",
    "- O jogador pode desistir ou bater.\n",
    "- O jogador deve ser capaz de escolher o seu valor de aposta.\n",
    "- Você precisa acompanhar o dinheiro total do jogador.\n",
    "- Você precisa alertar o jogador de vitórias, derrotas ou estouros, etc ...\n",
    "E o mais importante:\n",
    "Você deve usar OOP e classes em alguma parte do seu jogo. Você não pode\n",
    "simplesmente usar funções no seu jogo. Use classes para ajudá-lo a definir o deck e a\n",
    "mão do jogador. Há muitas maneiras certas de fazer isso, então explore bem!"
   ]
  },
  {
   "cell_type": "code",
   "execution_count": 9,
   "metadata": {},
   "outputs": [
    {
     "name": "stdout",
     "output_type": "stream",
     "text": [
      "Dealer has X & 4\n",
      "You have  [10, 3]\n",
      "Do you want to stay or hit?  2\n",
      "The dealer has a total of 8 with  [4, 4]\n",
      "You have a total of 13 with  [10, 3]\n",
      "You win!\n"
     ]
    }
   ],
   "source": [
    "# BlackJack or 21 game\n",
    "\n",
    "import random\n",
    "# THE PLANNING PHASE\n",
    " # Dealer cards\n",
    "dealer_cards = []\n",
    " # Player cards\n",
    "player_cards = []\n",
    "\n",
    "# Deal the cards\n",
    "# Display the cards\n",
    "# Dealer Cards\n",
    "while len(dealer_cards) != 2:\n",
    "    dealer_cards.append(random.randint(1, 11))\n",
    "    if len(dealer_cards) == 2:\n",
    "        print(\"Dealer has X &\", dealer_cards[1])\n",
    "\n",
    "# Player Cards\n",
    "while len(player_cards) != 2:\n",
    "    player_cards.append(random.randint(1, 11))\n",
    "    if len(player_cards) == 2:\n",
    "        print(\"You have \", player_cards)\n",
    " \n",
    " # Sum of the Dealer cards\n",
    "if sum(dealer_cards) == 21:\n",
    "    print(\"Dealer has 21 and wins!\")\n",
    "elif sum(dealer_cards) > 21:\n",
    "    print(\"Dealer has busted!\")\n",
    "\n",
    "# Sum of the Player cards\n",
    "while sum(player_cards) < 21:\n",
    "    action_taken = str(input(\"Do you want to stay or hit?  \"))\n",
    "    if action_taken == \"hit\":\n",
    "        player_cards.append(random.randint(1, 11))\n",
    "        print(\"You now have a total of \" + str(sum(player_cards)) + \" from these cards \", player_cards)\n",
    "    else:\n",
    "        print(\"The dealer has a total of \" + str(sum(dealer_cards)) + \" with \", dealer_cards)\n",
    "        print(\"You have a total of \" + str(sum(player_cards)) + \" with \", player_cards)\n",
    "        if sum(dealer_cards) > sum(player_cards):\n",
    "            print(\"Dealer wins!\")\n",
    "        else:\n",
    "            print(\"You win!\")\n",
    "            break\n",
    "\n",
    "if sum(player_cards) > 21:\n",
    "    print(\"You BUSTED! Dealer wins.\")\n",
    "elif sum(player_cards) == 21:\n",
    "    print(\"You have BLACKJACK! You Win!! 21\")\n",
    "\n",
    " # Compare the sums of the cards between D v P  \n",
    " # If P card sum is greater than 21 = BUST\n",
    " # If P card sum is less than 21 = Option Hit or Stay\n",
    " # If P option Stay compare sum of D v P \n",
    " # If P sum < 21 && > D sum then P wins!\n",
    " # If P sum < D sum then P loses"
   ]
  },
  {
   "cell_type": "code",
   "execution_count": null,
   "metadata": {
    "collapsed": true
   },
   "outputs": [],
   "source": []
  }
 ],
 "metadata": {
  "kernelspec": {
   "display_name": "Python 3",
   "language": "python",
   "name": "python3"
  },
  "language_info": {
   "codemirror_mode": {
    "name": "ipython",
    "version": 3
   },
   "file_extension": ".py",
   "mimetype": "text/x-python",
   "name": "python",
   "nbconvert_exporter": "python",
   "pygments_lexer": "ipython3",
   "version": "3.6.4"
  }
 },
 "nbformat": 4,
 "nbformat_minor": 2
}
