{
 "cells": [
  {
   "cell_type": "markdown",
   "metadata": {},
   "source": [
    "1 - Faça um Programa que peça o raio de um círculo, calcule e mostre sua área."
   ]
  },
  {
   "cell_type": "code",
   "execution_count": 3,
   "metadata": {},
   "outputs": [
    {
     "name": "stdout",
     "output_type": "stream",
     "text": [
      "Digite o valor do raio: 3\n",
      "Area do circulo: 9.42\n"
     ]
    }
   ],
   "source": [
    "raio = int (input (\"Digite o valor do raio: \"))\n",
    "pi = 3.14\n",
    "area = raio * pi\n",
    "print (\"Area do circulo: \" + str(area))"
   ]
  },
  {
   "cell_type": "markdown",
   "metadata": {},
   "source": [
    "2 - Faça um Programa que calcule a área de um quadrado, em seguida mostre o dobro desta área para o usuário."
   ]
  },
  {
   "cell_type": "code",
   "execution_count": 5,
   "metadata": {},
   "outputs": [
    {
     "name": "stdout",
     "output_type": "stream",
     "text": [
      "Digite o valor do lado 1: 22\n",
      "Digite o valor do lado 2: 5.17\n",
      "Area: 113.74\n"
     ]
    }
   ],
   "source": [
    "lado1 = int (input (\"Digite o valor do lado 1: \"))\n",
    "lado2 = int (input (\"Digite o valor do lado 2: \"))\n",
    "area = lado1 * lado2\n",
    "print (\"Area: \" + str(area))"
   ]
  },
  {
   "cell_type": "markdown",
   "metadata": {},
   "source": [
    "3 - Faça um Programa que pergunte quanto você ganha por hora e o número de horas trabalhadas no mês. Calcule e mostre o total do seu salário no referido mês."
   ]
  },
  {
   "cell_type": "code",
   "execution_count": 18,
   "metadata": {},
   "outputs": [
    {
     "name": "stdout",
     "output_type": "stream",
     "text": [
      "Digite o valor que você ganha por hora: 22,50\n",
      "Digite o numero de horas trabalhadas: 150\n",
      "Total: 3375\n"
     ]
    }
   ],
   "source": [
    "ganho = int (input (\"Digite o valor que você ganha por hora: \"))\n",
    "horas = int (input (\"Digite o numero de horas trabalhadas: \"))\n",
    "total = ganho * horas\n",
    "print (\"Total: \"+ str(total))"
   ]
  },
  {
   "cell_type": "markdown",
   "metadata": {
    "collapsed": true
   },
   "source": [
    "4 - Faça um Programa que peça a temperatura em graus Farenheit, transforme e mostre a temperatura em graus Celsius. \n",
    "C = (5 * (F-32) / 9)."
   ]
  },
  {
   "cell_type": "code",
   "execution_count": 2,
   "metadata": {},
   "outputs": [
    {
     "name": "stdout",
     "output_type": "stream",
     "text": [
      "Digite a temperatura em graus Farenheit: 40\n",
      "Temperatura em graus Celsius: 4\n"
     ]
    }
   ],
   "source": [
    "F = int (input (\"Digite a temperatura em graus Farenheit: \"))\n",
    "C = int (5 * (F-32) / 9)\n",
    "print (\"Temperatura em graus Celsius: \" + str(C))\n"
   ]
  },
  {
   "cell_type": "markdown",
   "metadata": {},
   "source": [
    "5 - Faça um Programa que peça a temperatura em graus Celsius, transforme e mostre em graus Farenheit."
   ]
  },
  {
   "cell_type": "code",
   "execution_count": 4,
   "metadata": {},
   "outputs": [
    {
     "name": "stdout",
     "output_type": "stream",
     "text": [
      "Digite a temperatura em graus Celsius: 40\n",
      "Temperatura em graus Farenheit: 4\n"
     ]
    }
   ],
   "source": [
    "C = int (input (\"Digite a temperatura em graus Celsius: \"))\n",
    "F = int (5 * (C-32) / 9)\n",
    "print (\"Temperatura em graus Farenheit: \" + str(F))"
   ]
  },
  {
   "cell_type": "markdown",
   "metadata": {},
   "source": [
    "6 - Faça um Programa que peça 2 números inteiros e um número real. Calcule e\n",
    "mostre:\n",
    " o produto do dobro do primeiro com metade do segundo .\n",
    " a soma do triplo do primeiro com o terceiro.\n",
    " o terceiro elevado ao cubo."
   ]
  },
  {
   "cell_type": "code",
   "execution_count": 9,
   "metadata": {},
   "outputs": [
    {
     "name": "stdout",
     "output_type": "stream",
     "text": [
      "Digite um número inteiro: 10\n",
      "Digite outro número inteiro: 20\n",
      "Digite um número real: 2.5\n",
      "O dobro do primeiro número é: 20 e a metade do segundo número é: 10\n",
      "A soma do triplo do primeiro com o terceiro é: 32.5\n",
      "O terceiro elevado ao cubo é: 15.625\n"
     ]
    }
   ],
   "source": [
    "X = int (input (\"Digite um número inteiro: \"))\n",
    "Y = int (input (\"Digite outro número inteiro: \"))\n",
    "Z = float (input (\"Digite um número real: \"))\n",
    "dobro = X * 2\n",
    "metade = Y // 2\n",
    "print (\"O dobro do primeiro número é: \" + str(dobro) + \" e a metade do segundo número é: \" + str(metade))\n",
    "triplo = X * 3\n",
    "soma = triplo + Z\n",
    "print (\"A soma do triplo do primeiro com o terceiro é: \" + str(soma))\n",
    "cubo = Z**3\n",
    "print (\"O terceiro elevado ao cubo é: \" + str(cubo))"
   ]
  },
  {
   "cell_type": "markdown",
   "metadata": {},
   "source": [
    "7 - João Papo-de-Pescador, homem de bem, comprou um microcomputador para controlar o rendimento diário de seu trabalho. Toda vez que ele traz um peso de peixes maior que o estabelecido pelo regulamento de pesca do estado de São Paulo (50 quilos) deve pagar uma multa de R$ 4,00 por quilo excedente. João precisa que você faça um programa que leia a variável peso (peso de peixes) e verifique se há excesso. Se houver, gravar na variável excesso e na variável multa o valor da multa que João deverá pagar. Caso contrário mostrar tais variáveis com o conteúdo ZERO"
   ]
  },
  {
   "cell_type": "code",
   "execution_count": 17,
   "metadata": {},
   "outputs": [
    {
     "name": "stdout",
     "output_type": "stream",
     "text": [
      "digite o peso: 10\n",
      "Não haverá multa, pois não consta excesso de peso\n"
     ]
    }
   ],
   "source": [
    "peso = int(input(\"digite o peso: \"))\n",
    "if peso > 50 :\n",
    "    excesso = peso*4   \n",
    "    multa = excesso\n",
    "    print(\"O valor da multa é: \", multa)\n",
    "else: \n",
    "    print('Não haverá multa, pois não consta excesso de peso')\n",
    "   "
   ]
  },
  {
   "cell_type": "markdown",
   "metadata": {},
   "source": [
    "8 - Faça um Programa que pergunte quanto você ganha por hora e o número de horas\n",
    "trabalhadas no mês. Calcule e mostre o total do seu salário no referido mês,\n",
    "sabendo-se que são descontados 11% para o Imposto de Renda, 8% para o INSS e 5%\n",
    "para o sindicato, faça um programa que nos dê:\n",
    " salário bruto.\n",
    " quanto pagou ao INSS.\n",
    " quanto pagou ao sindicato.\n",
    " o salário líquido.\n",
    " calcule os descontos e o salário líquido, conforme a tabela abaixo:\n",
    " + Salário Bruto : R$\n",
    " - IR (11%) : R$\n",
    " - INSS (8%) : R$\n",
    " - Sindicato ( 5%) : R$\n",
    " = Salário Liquido : R$\n",
    "Obs.: Salário Bruto - Descontos = Salário Líquido."
   ]
  },
  {
   "cell_type": "code",
   "execution_count": 19,
   "metadata": {},
   "outputs": [
    {
     "name": "stdout",
     "output_type": "stream",
     "text": [
      "Digite o valor do seu salario bruto:R$5000\n",
      "O valor pago em INSS foi de R$400.00\n",
      "O valor pago ao Sindicato foi de R$250.00\n",
      "O Salario liquido foi de R$4350.00\n"
     ]
    }
   ],
   "source": [
    "salario_bruto = float(input(\"Digite o valor do seu salario bruto:R$\"))\n",
    "ir=11/salario_bruto/100\n",
    "inss = 8*salario_bruto/100\n",
    "sindicato = 5*salario_bruto/100\n",
    "descontos = ir+inss+sindicato\n",
    "salario_liquido = salario_bruto-descontos\n",
    "print('O valor pago em INSS foi de R$%.2f' %inss)\n",
    "print('O valor pago ao Sindicato foi de R$%.2f'%sindicato)\n",
    "print('O Salario liquido foi de R$%.2f'%salario_liquido)"
   ]
  },
  {
   "cell_type": "markdown",
   "metadata": {},
   "source": [
    "9 - Faça um programa que leia 2 strings e informe o conteúdo delas seguido do seu\n",
    "comprimento. Informe também se as duas strings possuem o mesmo comprimento e\n",
    "são iguais ou diferentes no conteúdo.\n",
    "Exemplo:\n",
    "String 1: Brasil Hexa 2018\n",
    "String 2: Brasil! Hexa 2018!\n",
    "Tamanho de \"Brasil Hexa 2018\": 16 caracteres\n",
    "Tamanho de \"Brasil! Hexa 2018!\": 18 caracteres\n",
    "As duas strings são de tamanhos diferentes.\n",
    "As duas strings possuem conteúdo diferente."
   ]
  },
  {
   "cell_type": "code",
   "execution_count": 2,
   "metadata": {},
   "outputs": [
    {
     "name": "stdout",
     "output_type": "stream",
     "text": [
      "Digite uma frase: Bruna\n",
      "Digite outra frase: Jessica\n",
      "O tamanho da primeira frase é:5\n",
      "O tamanho da segunda frase é:7\n",
      "As duas frases não são de tamanhos iguais\n"
     ]
    }
   ],
   "source": [
    "string1 = input(\"Digite uma frase: \")\n",
    "string2 = input(\"Digite outra frase: \") \n",
    "print(f\"O tamanho da primeira frase é:{len(string1)}\") \n",
    "print(f\"O tamanho da segunda frase é:{len(string2)}\") \n",
    "if string1 == string2:\n",
    " print(\"As duas frases sao de tamanhos iguais\")\n",
    "else: \n",
    "     print(\"As duas frases não são de tamanhos iguais\")\n"
   ]
  },
  {
   "cell_type": "markdown",
   "metadata": {},
   "source": [
    "10 - Faça um programa que permita ao usuário digitar o seu nome e em seguida\n",
    "mostre o nome do usuário de trás para frente utilizando somente letras maiúsculas.\n",
    "Dica: lembre−se que ao informar o nome o usuário pode digitar letras maiúsculas ou\n",
    "minúsculas. Observação: não use loops."
   ]
  },
  {
   "cell_type": "code",
   "execution_count": 4,
   "metadata": {},
   "outputs": [
    {
     "name": "stdout",
     "output_type": "stream",
     "text": [
      "Digite um nome: Bruna\n",
      "ANURB\n"
     ]
    }
   ],
   "source": [
    "nome = input(\"Digite um nome: \")\n",
    "nome = nome[::-1].upper()\n",
    "print(nome)"
   ]
  },
  {
   "cell_type": "markdown",
   "metadata": {},
   "source": [
    "11 - Faça um programa que solicite a data de nascimento (dd/mm/aaaa) do usuário e\n",
    "imprima a data com o nome do mês por extenso.\n",
    "Data de Nascimento: 29/10/1973\n",
    "Você nasceu em 29 de Outubro de 1973.\n",
    "Obs.: Não use desvio condicional nem loops."
   ]
  },
  {
   "cell_type": "code",
   "execution_count": 10,
   "metadata": {},
   "outputs": [
    {
     "name": "stdout",
     "output_type": "stream",
     "text": [
      "Digite sua data de nascimento: 28/06/1996\n",
      "28 06 1996\n",
      "Você nasceu no dia 28 de junho de 1996\n"
     ]
    }
   ],
   "source": [
    "data = input (\"Digite sua data de nascimento: \")\n",
    "dia,mes,ano = data.split('/')\n",
    "print(dia, mes, ano)\n",
    "mes_todos = {'01':'janeiro',\n",
    "             '02':'fevereiro',\n",
    "             '03':'março',\n",
    "             '04':'abril',\n",
    "             '05':'maio',\n",
    "             '06':'junho',\n",
    "             '07':'julho',\n",
    "             '08':'agosto',\n",
    "             '09':'setembro',\n",
    "             '10':\"outubro\",\n",
    "             '11':'novembro',\n",
    "             '12':'dezembro'\n",
    "            }\n",
    "mes_escrito = mes_todos[mes]\n",
    "print(f\"Você nasceu no dia {dia} de {mes_escrito} de {ano}\")"
   ]
  },
  {
   "cell_type": "markdown",
   "metadata": {},
   "source": [
    "12- Leet é uma forma de se escrever o alfabeto latino usando outros símbolos em\n",
    "lugar das letras, como números por exemplo. A própria palavra leet admite muitas\n",
    "variações, como l33t ou 1337. O uso do leet reflete uma subcultura relacionada ao\n",
    "mundo dos jogos de computador e internet, sendo muito usada para confundir os\n",
    "iniciantes e afirmar-se como parte de um grupo. Pesquise sobre as principais formas\n",
    "de traduzir as letras. Depois, faça um programa que peça uma texto e transforme-o\n",
    "para a grafia leet speak.\n",
    "Desafio: não use loops nem desvios condicionais."
   ]
  },
  {
   "cell_type": "code",
   "execution_count": 1,
   "metadata": {},
   "outputs": [
    {
     "name": "stdout",
     "output_type": "stream",
     "text": [
      "Digite uma palavra bruna\n",
      "ß|2(_)//4\n"
     ]
    }
   ],
   "source": [
    "texto = input(\"Digite uma palavra \")\n",
    "texto = texto.replace('a','4')\n",
    "texto = texto.replace('b','ß')\n",
    "texto = texto.replace('c','[')\n",
    "texto = texto.replace('d','|))')\n",
    "texto = texto.replace('e',' €')\n",
    "texto = texto.replace('f','|=')\n",
    "texto = texto.replace('g','6')\n",
    "texto = texto.replace('h','#')\n",
    "texto = texto.replace('i','1')\n",
    "texto = texto.replace('j','j')\n",
    "texto = texto.replace('k','X')\n",
    "texto = texto.replace('l','1')\n",
    "texto = texto.replace('m','^^')\n",
    "texto = texto.replace('n','//')\n",
    "texto = texto.replace('o','0')\n",
    "texto = texto.replace('p','|^')\n",
    "texto = texto.replace('q','q')\n",
    "texto = texto.replace('r','|2')\n",
    "texto = texto.replace('s','5')\n",
    "texto = texto.replace('t','7')\n",
    "texto = texto.replace('u','(_)')\n",
    "texto = texto.replace('v','\\/')\n",
    "texto = texto.replace('w','\\/\\/')\n",
    "texto = texto.replace('x','><')\n",
    "texto = texto.replace('y','Y')\n",
    "texto = texto.replace('z','2')\n",
    "print(texto)"
   ]
  },
  {
   "cell_type": "markdown",
   "metadata": {},
   "source": [
    "13 - Crie um programa que recebe uma lista de números e\n",
    "- retorne o maior elemento\n",
    "- retorne a soma dos elementos\n",
    "- retorne o número de ocorrências do primeiro elemento da lista\n",
    "- retorne a média dos elementos\n",
    "- retorne o valor mais próximo da média dos elementos\n",
    "- retorne a soma dos elementos com valor negativo\n",
    "- retorne a quantidade de vizinhos iguais"
   ]
  },
  {
   "cell_type": "code",
   "execution_count": 7,
   "metadata": {},
   "outputs": [
    {
     "name": "stdout",
     "output_type": "stream",
     "text": [
      "Maior: 10 Soma: 30 Primeiro: 2 Média: 6.0 Próximo 2 Negativo: -6.0\n",
      "Maior: 10 Soma: 30 Primeiro: 2 Média: 6.0 Próximo 4 Negativo: -6.0\n",
      "Maior: 10 Soma: 30 Primeiro: 2 Média: 6.0 Próximo 6 Negativo: -6.0\n",
      "Maior: 10 Soma: 30 Primeiro: 2 Média: 6.0 Próximo 6 Negativo: -6.0\n",
      "Maior: 10 Soma: 30 Primeiro: 2 Média: 6.0 Próximo 6 Negativo: -6.0\n"
     ]
    }
   ],
   "source": [
    "num = [2,4,6,8,10]\n",
    "soma = 0\n",
    "for n in num:  \n",
    "    soma = sum(num)\n",
    "    maior = max(num)\n",
    "    p = num[0]\n",
    "    media = soma/len(num)\n",
    "    if media >= n:\n",
    "        prox = n\n",
    "    print(\"Maior: {} Soma: {} Primeiro: {} Média: {} Próximo {} Negativo: -{}\".format(maior, soma, p, media, prox, media))"
   ]
  },
  {
   "cell_type": "markdown",
   "metadata": {},
   "source": [
    "15 - Faça um programa que receba duas listas e retorne True se são iguais ou False\n",
    "caso contrario.\n",
    "Duas listas são iguais se possuem os mesmos valores e na mesma ordem"
   ]
  },
  {
   "cell_type": "code",
   "execution_count": 3,
   "metadata": {},
   "outputs": [
    {
     "name": "stdout",
     "output_type": "stream",
     "text": [
      "Digite os valores da primeira lista: 1,2,3\n",
      "Digite os valores da segunda lista: 4,5,6\n"
     ]
    },
    {
     "data": {
      "text/plain": [
       "False"
      ]
     },
     "execution_count": 3,
     "metadata": {},
     "output_type": "execute_result"
    }
   ],
   "source": [
    "lista01 = [input(\"Digite os valores da primeira lista: \")]\n",
    "lista02 = [input(\"Digite os valores da segunda lista: \")]\n",
    "lista01[:len(lista01)] == lista02[:len(lista02)]"
   ]
  },
  {
   "cell_type": "markdown",
   "metadata": {},
   "source": [
    "14 - Faça um programa que receba duas listas e retorne True se têm os mesmos\n",
    "elementos ou False caso contrário\n",
    "Duas listas possuem os mesmos elementos quando são compostas pelos mesmos\n",
    "valores, mas não obrigatoriamente na mesma ordem."
   ]
  },
  {
   "cell_type": "code",
   "execution_count": 4,
   "metadata": {},
   "outputs": [
    {
     "data": {
      "text/plain": [
       "True"
      ]
     },
     "execution_count": 4,
     "metadata": {},
     "output_type": "execute_result"
    }
   ],
   "source": [
    "lista01 = [2,4,6,8]\n",
    "lista02 = [8,6,4,2]\n",
    "set(lista01) == set(lista02)"
   ]
  },
  {
   "cell_type": "markdown",
   "metadata": {},
   "source": [
    "16 - Faça um programa que percorre uma lista com o seguinte formato: [['Brasil',\n",
    "'Italia', [10, 9]], ['Brasil', 'Espanha', [5, 7]], ['Italia', 'Espanha', [7,8]]]. Essa lista indica o\n",
    "número de faltas que cada time fez em cada jogo. Na lista acima, no jogo entre Brasil\n",
    "e Itália, o Brasil fez 10 faltas e a Itália fez 9.\n",
    "O programa deve imprimir na tela:\n",
    "- o total de faltas do campeonato\n",
    "- o time que fez mais faltas\n",
    "- o time que fez menos faltas"
   ]
  },
  {
   "cell_type": "code",
   "execution_count": 5,
   "metadata": {},
   "outputs": [
    {
     "name": "stdout",
     "output_type": "stream",
     "text": [
      "Total de faltas do campeonato: 45 \n",
      "Maior: 16 \n",
      "Menor: 14\n"
     ]
    }
   ],
   "source": [
    "mais_faltas = {'Brasil':15,'Italia':16,'Espanha':14}\n",
    "soma =sum(mais_faltas.values())\n",
    "maior = max(mais_faltas.values())\n",
    "menor = min(mais_faltas.values())\n",
    "print(\"Total de faltas do campeonato: {} \\nMaior: {} \\nMenor: {}\".format(soma,maior,menor))"
   ]
  },
  {
   "cell_type": "markdown",
   "metadata": {},
   "source": [
    "17 - Escreva um programa que conta a quantidade de vogais em uma string e\n",
    "armazena tal quantidade em um dicionário, onde a chave é a vogal considerada."
   ]
  },
  {
   "cell_type": "code",
   "execution_count": 4,
   "metadata": {},
   "outputs": [
    {
     "name": "stdout",
     "output_type": "stream",
     "text": [
      "Digite uma palavra: gustavo\n",
      "gustavo\n",
      "{'a': 1, 'e': 0, 'i': 0, 'o': 1, 'u': 1}\n"
     ]
    }
   ],
   "source": [
    "text_vogais = input(\"Digite uma palavra: \")\n",
    "print(text_vogais)\n",
    "a = text_vogais.count(\"a\")\n",
    "e = text_vogais.count(\"e\")\n",
    "i = text_vogais.count(\"i\")\n",
    "o = text_vogais.count(\"o\")\n",
    "u = text_vogais.count(\"u\")\n",
    "dic = {'a':a,'e':e,'i':i,'o':o,'u':u}\n",
    "print(dic)"
   ]
  },
  {
   "cell_type": "markdown",
   "metadata": {},
   "source": [
    "18 - Escreva um programa que lê̂duas notas de vários alunos e armazena tais notas\n",
    "em um dicionário, onde a chave é o nome do aluno. A entrada de dados deve\n",
    "terminar quando for lida uma string vazia como nome. Escreva uma função que\n",
    "retorna a média do aluno, dado seu nome."
   ]
  },
  {
   "cell_type": "code",
   "execution_count": 6,
   "metadata": {},
   "outputs": [
    {
     "name": "stdout",
     "output_type": "stream",
     "text": [
      "Digite o nome do aluno: Jorge\n",
      "A média do aluno é: 9.00\n"
     ]
    }
   ],
   "source": [
    "notas = {\"Jorge\":[10.0,8.0], \"Dantas\":[10.0,7.5]}\n",
    "aluno = notas.get(input(\"Digite o nome do aluno: \"))\n",
    "nota = float((aluno[0] + aluno[1])/2)\n",
    "print(\"A média do aluno é: %.2f\" % nota)"
   ]
  },
  {
   "cell_type": "markdown",
   "metadata": {},
   "source": [
    "19 - Uma pista de Kart permite 10 voltas para cada um de 6 corredores. Escreva um\n",
    "programa que leia todos os tempos em segundos e os guarde em um dicionário,\n",
    "onde a chave é o nome do corredor. Ao final diga de quem foi a melhor volta da\n",
    "prova e em que volta; e ainda a classificação final em ordem (1o o campeão). O\n",
    "campeão é o que tem a menor média de tempos."
   ]
  },
  {
   "cell_type": "code",
   "execution_count": 3,
   "metadata": {},
   "outputs": [
    {
     "name": "stdout",
     "output_type": "stream",
     "text": [
      "Digite o nome do piloto: Henrique\n",
      "Digite o tempo do piloto: 40\n",
      "Campeão: ['Henrique', 40.0]\n"
     ]
    }
   ],
   "source": [
    "nome = input(\"Digite o nome do piloto: \")\n",
    "kart = [nome]\n",
    "tempo = float(input(\"Digite o tempo do piloto: \"))\n",
    "kart.append(tempo)\n",
    "print(\"Campeão: {}\".format(kart))"
   ]
  },
  {
   "cell_type": "markdown",
   "metadata": {},
   "source": [
    "20 - Escreva um programa para armazenar uma agenda de telefones em um\n",
    "dicionário. Cada pessoa pode ter um ou mais telefones e a chave do dicionário é o\n",
    "nome da pessoa. Seu programa deve ter as seguintes funções:\n",
    "- incluirNovoNome – essa função acrescenta um novo nome na agenda, com um ou\n",
    "mais telefones. Ela deve receber como argumentos o nome e os telefones.\n",
    "- incluirTelefone – essa função acrescenta um telefone em um nome existente na\n",
    "agenda. Caso o nome não exista na agenda, você̂deve perguntar se a pessoa deseja\n",
    "inclui-lo. Caso a resposta seja afirmativa, use a função anterior para incluir o novo\n",
    "nome.\n",
    "- excluirTelefone – essa função exclui um telefone de uma pessoa que já está na\n",
    "agenda. Se a pessoa tiver apenas um telefone, ela deve ser excluída da agenda.\n",
    "- excluirNome – essa função exclui uma pessoa da agenda.\n",
    "- consultarTelefone – essa função retorna os telefones de uma pessoa na agenda."
   ]
  },
  {
   "cell_type": "code",
   "execution_count": 5,
   "metadata": {},
   "outputs": [
    {
     "name": "stdout",
     "output_type": "stream",
     "text": [
      "Remova um contato: Leo\n",
      "{'Jacinta': 947051177, 'Henrique': 945785487, 'João': 974859612}\n"
     ]
    }
   ],
   "source": [
    "lista_telefone = {'Jacinta':947051177,'Henrique':945785487,'João': 974859612, 'Leo': 940584968}\n",
    "nome = input(\"Remova um contato: \")\n",
    "lista_telefone.pop(nome)\n",
    "\n",
    "print(lista_telefone)"
   ]
  },
  {
   "cell_type": "markdown",
   "metadata": {},
   "source": [
    "22 - Faça um programa que leia um arquivo texto contendo uma lista de endereços IP\n",
    "e gere um outro arquivo, contendo um relatório dos endereços IP válidos e inválidos.\n",
    "O arquivo de entrada possui o seguinte formato:\n",
    "200.135.80.9\n",
    "192.168.1.1\n",
    "8.35.67.74\n",
    "257.32.4.5\n",
    "85.345.1.2\n",
    "1.2.3.4\n",
    "9.8.234.5\n",
    "192.168.0.256\n",
    "O arquivo de saída possui o seguinte formato:\n",
    "[Endereços válidos:]\n",
    "200.135.80.9\n",
    "192.168.1.1\n",
    "8.35.67.74\n",
    "1.2.3.4\n",
    "[Endereços inválidos:]\n",
    "257.32.4.5\n",
    "85.345.1.2\n",
    "9.8.234.5\n",
    "192.168.0.256"
   ]
  },
  {
   "cell_type": "code",
   "execution_count": 9,
   "metadata": {},
   "outputs": [
    {
     "name": "stdout",
     "output_type": "stream",
     "text": [
      "Writing my_file.txt\n"
     ]
    }
   ],
   "source": [
    "%%writefile my_file.txt\n",
    "my_file.write('Válidos 200.135.80.9 192.168.1.1 8.35.67.74 1.2.3.4')\n",
    "my_file.write('Inválidos 257.32.4.5 85.345.1.2 9.8.234.5 192.168.0.256')\n",
    "print(my_file.read())"
   ]
  },
  {
   "cell_type": "markdown",
   "metadata": {},
   "source": [
    "22 - A ACME Inc., uma empresa de 500 funcionários, está tendo problemas de espaço em disco no seu servidor de arquivos. Para tentar resolver este problema, o Administrador de Rede precisa saber qual o espaço ocupado pelos usuários, e identificar os usuários com maior espaço ocupado. Através de um programa, baixado da Internet, ele conseguiu gerar o seguinte arquivo, chamado \"usuarios.txt\":"
   ]
  },
  {
   "cell_type": "code",
   "execution_count": 10,
   "metadata": {},
   "outputs": [
    {
     "name": "stdout",
     "output_type": "stream",
     "text": [
      "Writing relatório.txt\n"
     ]
    }
   ],
   "source": [
    "%%writefile relatório.txt\n",
    "ACME Inc. Uso do espaço em disco pelos usuários\n",
    "--------------------------------------------------------------\n",
    "----------\n",
    "Nr. Usuário Espaço utilizado % do uso\n",
    "1 alexandre 434,99 MB 16,85%\n",
    "2 anderson 1187,99 MB 46,02%\n",
    "3 antonio 117,73 MB 4,56%\n",
    "4 carlos 87,03 MB 3,37%\n",
    "5 cesar 0,94 MB 0,04%\n",
    "6 rosemary 752,88 MB 29,16%\n",
    "Espaço total ocupado: 2581,57 MB\n",
    "Espaço médio ocupado: 430,26 MB\n",
    "    \n",
    "print(my_file.read())\n",
    "Writing relatório.txt"
   ]
  }
 ],
 "metadata": {
  "kernelspec": {
   "display_name": "Python 3",
   "language": "python",
   "name": "python3"
  },
  "language_info": {
   "codemirror_mode": {
    "name": "ipython",
    "version": 3
   },
   "file_extension": ".py",
   "mimetype": "text/x-python",
   "name": "python",
   "nbconvert_exporter": "python",
   "pygments_lexer": "ipython3",
   "version": "3.6.4"
  }
 },
 "nbformat": 4,
 "nbformat_minor": 2
}
