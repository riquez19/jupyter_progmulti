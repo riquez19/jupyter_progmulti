{
 "cells": [
  {
   "cell_type": "markdown",
   "metadata": {},
   "source": [
    "1.Faça um Programa que peça dois números e imprima o maior deles."
   ]
  },
  {
   "cell_type": "code",
   "execution_count": 1,
   "metadata": {},
   "outputs": [
    {
     "name": "stdout",
     "output_type": "stream",
     "text": [
      "Digite o primeiro número: 8\n",
      "Digite o segundo número: 15\n",
      "O maior número é 15\n"
     ]
    }
   ],
   "source": [
    "n1 = int(input(\"Digite o primeiro número: \"))\n",
    "n2 = int(input(\"Digite o segundo número: \"))\n",
    "\n",
    "if n1 > n2:\n",
    "    print(\"O maior número é\", n1)\n",
    "\n",
    "elif n1 == n2:\n",
    "    print(\"Os dois números são iguais!\")\n",
    "\n",
    "else:\n",
    "    print(\"O maior número é\", n2)"
   ]
  },
  {
   "cell_type": "markdown",
   "metadata": {},
   "source": [
    "2.Faça um Programa que verifique se uma letra digitada é vogal ou consoante."
   ]
  },
  {
   "cell_type": "code",
   "execution_count": 2,
   "metadata": {},
   "outputs": [
    {
     "name": "stdout",
     "output_type": "stream",
     "text": [
      "Digite uma letra: l\n",
      "L é uma consoante\n"
     ]
    }
   ],
   "source": [
    "letra = input(\"Digite uma letra: \")\n",
    "\n",
    "if letra.lower() in 'aeiou':\n",
    "    print(letra.upper(), \"é uma vogal\")\n",
    "else:\n",
    "    print(letra.upper(), \"é uma consoante\")"
   ]
  },
  {
   "cell_type": "markdown",
   "metadata": {},
   "source": [
    "3.Faça um programa para a leitura de duas notas parciais de um aluno. O programa deve calcular a média alcançada por aluno e apresentar:\n",
    "- A mensagem \"Aprovado\", se a média alcançada for maior ou igual a sete;\n",
    "- A mensagem \"Reprovado\", se a média for menor do que sete;\n",
    "- A mensagem \"Aprovado com Distinção\", se a média for igual a dez."
   ]
  },
  {
   "cell_type": "code",
   "execution_count": 3,
   "metadata": {
    "scrolled": true
   },
   "outputs": [
    {
     "name": "stdout",
     "output_type": "stream",
     "text": [
      "Digite a primeira nota: 9\n",
      "Digite a segunda nota: 7\n",
      "Aprovado\n"
     ]
    }
   ],
   "source": [
    "nota1 = float(input(\"Digite a primeira nota: \"))\n",
    "nota2 = float(input(\"Digite a segunda nota: \"))\n",
    "\n",
    "media = (nota1 + nota2) / 2\n",
    "\n",
    "if media == 10:\n",
    "    print(\"Aprovado com Distinção\")\n",
    "elif media >= 7:\n",
    "    print(\"Aprovado\")\n",
    "else:\n",
    "    print(\"Reprovado\")"
   ]
  },
  {
   "cell_type": "markdown",
   "metadata": {},
   "source": [
    "4.Faça um Programa que leia três números e mostre-os em ordem decrescente."
   ]
  },
  {
   "cell_type": "code",
   "execution_count": 4,
   "metadata": {},
   "outputs": [
    {
     "name": "stdout",
     "output_type": "stream",
     "text": [
      "Digite o primeiro número: 60\n",
      "Digite o segundo número: 53\n",
      "Digite o terceiro número: 52\n",
      "60\n",
      "53\n",
      "52\n"
     ]
    }
   ],
   "source": [
    "n1 = input('Digite o primeiro número: ')\n",
    "n2 = input('Digite o segundo número: ')\n",
    "n3 = input('Digite o terceiro número: ')\n",
    "\n",
    "if n1 > n2 and n1 >n3:\n",
    "    print(n1)\n",
    "elif n2 > n3 and n2 > n1:\n",
    "    print(n2)\n",
    "elif n3 > n1 and n3 > n2:\n",
    "    print(n3)\n",
    "      \n",
    "if n1 > n3 and n1 < n2:\n",
    "    print(n1)\n",
    "elif n2 > n1 and n2 < n3:\n",
    "    print(n2)\n",
    "elif n3 > n2 and n3 > n1:\n",
    "    print(n3)\n",
    "elif n2 < n1 and n2 > n3:\n",
    "    print(n2)\n",
    "\n",
    "if n1 < n2 and n1 < n3:\n",
    "    print (n1)\n",
    "elif n2 < n3 and n2 < n1:\n",
    "    print (n2)\n",
    "elif n3 < n1 and n3 < n2:\n",
    "    print (n3)"
   ]
  },
  {
   "cell_type": "markdown",
   "metadata": {},
   "source": [
    "5.As Organizações Tabajara resolveram dar um aumento de salário aos seus colaboradores e lhe contrataram para desenvolver o programa que calculará os reajustes.\n",
    "Faça um programa que recebe o salário de um colaborador e o reajuste segundo o seguinte critério, baseado no salário atual:\n",
    "- salários até R$ 280,00 (incluindo) : aumento de 20%\n",
    "- salários entre R$ 280,00 e R$ 700,00 : aumento de 15%\n",
    "- salários entre R$ 700,00 e R$ 1500,00 : aumento de 10%\n",
    "- salários de R$ 1500,00 em diante : aumento de 5%\n",
    "\n",
    "Após o aumento ser realizado, informe na tela:\n",
    "- o salário antes do reajuste;\n",
    "- o percentual de aumento aplicado;\n",
    "- o valor do aumento;\n",
    "- o novo salário, após o aumento."
   ]
  },
  {
   "cell_type": "code",
   "execution_count": 5,
   "metadata": {},
   "outputs": [
    {
     "name": "stdout",
     "output_type": "stream",
     "text": [
      "Digite o salário: 1000\n",
      "Salário antes do reajuste: R$ 1000.00\n",
      "Porcentagem do reajuste: 10%\n",
      "Valor do aumento: R$ 100.00\n",
      "Salário reajustado: R$ 1100.00\n"
     ]
    }
   ],
   "source": [
    "salario = float(input(\"Digite o salário: \"))\n",
    "\n",
    "if salario <= 280:\n",
    "    salarior = ((salario/100)*20) + salario\n",
    "    reajp = '20%'\n",
    "    reajv = (salario/100)*20\n",
    "elif salario > 280 and salario <= 700:\n",
    "    salarior = salario + (salario/100)*15\n",
    "    reajp = '15%'\n",
    "    reajv = (salario/100)*15\n",
    "elif salario > 700 and salario <= 1500:\n",
    "    salarior = salario + (salario/100)*10\n",
    "    reajp = '10%'\n",
    "    reajv = (salario/100)*10\n",
    "else:\n",
    "    salarior = salario + (salario/100)*5\n",
    "    reajp = '5%'\n",
    "    reajv = (salario/100)*5\n",
    "\n",
    "print (\"Salário antes do reajuste: R$ %.2f\" % (salario))\n",
    "print (\"Porcentagem do reajuste:\", reajp)\n",
    "print (\"Valor do aumento: R$ %.2f\" % (reajv))\n",
    "print (\"Salário reajustado: R$ %.2f\" % (salarior))"
   ]
  },
  {
   "cell_type": "markdown",
   "metadata": {},
   "source": [
    "6.Faça um Programa que leia um número e exiba o dia correspondente da semana.\n",
    "(1-Domingo, 2- Segunda, etc.), se digitar outro valor deve aparecer valor inválido."
   ]
  },
  {
   "cell_type": "code",
   "execution_count": 6,
   "metadata": {},
   "outputs": [
    {
     "name": "stdout",
     "output_type": "stream",
     "text": [
      "Digite um número de 1 à 7: 6\n",
      "Sexta\n"
     ]
    }
   ],
   "source": [
    "n = int(input(\"Digite um número de 1 à 7: \"))\n",
    "\n",
    "if n == 1:\n",
    "    print(\"Domingo\")\n",
    "elif n == 2:\n",
    "    print(\"Segunda\")\n",
    "elif n == 3:\n",
    "    print(\"Terça\")\n",
    "elif n == 4:\n",
    "    print(\"Quarta\")\n",
    "elif n == 5:\n",
    "    print(\"Quinta\")\n",
    "elif n == 6:\n",
    "    print(\"Sexta\")\n",
    "elif n == 7:\n",
    "    print(\"Sabádo\")\n",
    "else:\n",
    "    print(\"Valor inválido\")"
   ]
  },
  {
   "cell_type": "markdown",
   "metadata": {},
   "source": [
    "7.Faça um programa que lê as duas notas parciais obtidas por um aluno numa\n",
    "disciplina ao longo de um semestre, e calcule a sua média. A atribuição de conceitos\n",
    "obedece à tabela abaixo:\n",
    "Média de Aproveitamento Conceito\n",
    "Entre 9.0 e 10.0 A\n",
    "Entre 7.5 e 9.0 B\n",
    "Entre 6.0 e 7.5 C\n",
    "Entre 4.0 e 6.0 D\n",
    "Entre 4.0 e zero E\n",
    "O algoritmo deve mostrar na tela as notas, a média, o conceito correspondente e a\n",
    "mensagem “APROVADO” se o conceito for A, B ou C ou “REPROVADO” se o conceito\n",
    "for D ou E."
   ]
  },
  {
   "cell_type": "code",
   "execution_count": 7,
   "metadata": {},
   "outputs": [
    {
     "name": "stdout",
     "output_type": "stream",
     "text": [
      "Digite a primeira nota: 8\n",
      "Digite a segunda nota: 6\n",
      "Primeira nota: 8.0\n",
      "Segunda nota: 6.0\n",
      "Média: 7.0\n",
      "C - APROVADO\n"
     ]
    }
   ],
   "source": [
    "n1 = float(input(\"Digite a primeira nota: \"))\n",
    "n2 = float(input(\"Digite a segunda nota: \"))\n",
    "\n",
    "media = (n1 + n2)/2\n",
    "\n",
    "if media >= 9.0 and media == 10.0:\n",
    "    print(\"Primeira nota:\", n1)\n",
    "    print(\"Segunda nota:\", n2)\n",
    "    print(\"Média:\", media)\n",
    "    print(\"A - APROVADO\")\n",
    "    \n",
    "elif media >= 7.5 and media < 9.0:\n",
    "    print(\"Primeira nota:\", n1)\n",
    "    print(\"Segunda nota:\", n2)\n",
    "    print(\"Média:\", media)\n",
    "    print(\"B - APROVADO\")\n",
    "    \n",
    "elif media >= 6.0 and media < 7.5:\n",
    "    print(\"Primeira nota:\", n1)\n",
    "    print(\"Segunda nota:\", n2)\n",
    "    print(\"Média:\", media)\n",
    "    print(\"C - APROVADO\")\n",
    "    \n",
    "elif media >= 4.0 and media < 6.0:\n",
    "    print(\"Primeira nota:\", n1)\n",
    "    print(\"Segunda nota:\", n2)\n",
    "    print(\"Média:\", media)\n",
    "    print(\"D - REPROVADO\")\n",
    "    \n",
    "elif media >= 0 and media < 4.0:\n",
    "    print(\"Primeira nota:\", n1)\n",
    "    print(\"Segunda nota:\", n2)\n",
    "    print(\"Média:\", media)\n",
    "    print(\"E - REPROVADO\")"
   ]
  },
  {
   "cell_type": "markdown",
   "metadata": {},
   "source": [
    "8.Faça um Programa que peça os 3 lados de um triângulo. O programa deverá informar se os valores podem ser um triângulo. Indique, caso os lados formem um triângulo, se o mesmo é: equilátero, isósceles ou escaleno.\n",
    "Dicas:\n",
    "- Três lados formam um triângulo quando a soma de quaisquer dois lados for maior que o terceiro;\n",
    "- Triângulo Equilátero: três lados iguais;\n",
    "- Triângulo Isósceles: quaisquer dois lados iguais;\n",
    "- Triângulo Escaleno: três lados diferentes;"
   ]
  },
  {
   "cell_type": "code",
   "execution_count": 8,
   "metadata": {},
   "outputs": [
    {
     "name": "stdout",
     "output_type": "stream",
     "text": [
      "Digite o tamanho do primeiro lado: 5\n",
      "Digite o tamanho do segundo lado: 4\n",
      "Digite o tamanho do terceiro lado: 3\n",
      "Triângulo Escaleno\n"
     ]
    }
   ],
   "source": [
    "l1 = input(\"Digite o tamanho do primeiro lado: \")\n",
    "l2 = input(\"Digite o tamanho do segundo lado: \")\n",
    "l3 = input(\"Digite o tamanho do terceiro lado: \")\n",
    "\n",
    "if l1 + l2 > l3:\n",
    "    if l1 == l2 and l1 == l3:\n",
    "        print(\"Triângulo Equilátero\")\n",
    "    elif l1 == l2 or l2 == l3 or l1 == l3:\n",
    "        print (\"Triângulo Isósceles\")\n",
    "    elif l1 != l2 and l3 or l2 != l1 and l3 or l1 != l3:\n",
    "        print (\"Triângulo Escaleno\")\n",
    "\n",
    "else:\n",
    "    print (\"Não é um triângulo\")"
   ]
  },
  {
   "cell_type": "markdown",
   "metadata": {},
   "source": [
    "9.Faça um programa que calcule as raízes de uma equação do segundo grau, na forma ax2 + bx + c. O programa deverá pedir os valores de a, b e c e fazer as consistências, informando ao usuário nas seguintes situações:\n",
    "- Se o usuário informar o valor de A igual a zero, a equação não é do segundo grau e o programa não deve fazer pedir os demais valores, sendo encerrado;\n",
    "- Se o delta calculado for negativo, a equação não possui raizes reais. Informe ao usuário e encerre o programa;\n",
    "- Se o delta calculado for igual a zero a equação possui apenas uma raiz real; informe-a ao usuário;\n",
    "- Se o delta for positivo, a equação possui duas raiz reais; informe-as ao usuário;"
   ]
  },
  {
   "cell_type": "code",
   "execution_count": 9,
   "metadata": {},
   "outputs": [
    {
     "name": "stdout",
     "output_type": "stream",
     "text": [
      "Digite o valor de A: 2\n",
      "Digite o valor de B: 6\n",
      "Digite o valor de C: 4\n",
      "A equação resulta em delta 4 e possui duas raizes reais\n"
     ]
    }
   ],
   "source": [
    "a = int(input(\"Digite o valor de A: \"))\n",
    "\n",
    "if a == 0:\n",
    "    print(\"A equação não é do segundo grau\")\n",
    "    \n",
    "else:\n",
    "    b = int(input(\"Digite o valor de B: \"))\n",
    "    c = int(input(\"Digite o valor de C: \"))\n",
    "    delta = (b**2)-(4*a*c)\n",
    "    if delta <0:\n",
    "        print(f\"A equação não possui raizes reais pois o delta resulta em {delta}\")\n",
    "    elif delta == 0:\n",
    "        print(f\"A equação resulta em delta {delta} e possui apenas uma raiz real\")\n",
    "    elif delta > 0:\n",
    "        print(f\"A equação resulta em delta {delta} e possui duas raizes reais\")"
   ]
  },
  {
   "cell_type": "markdown",
   "metadata": {},
   "source": [
    "10.Faça um Programa para um caixa eletrônico. O programa deverá perguntar ao usuário a valor do saque e depois informar quantas notas de cada valor serão fornecidas. As notas disponíveis serão as de 1, 5, 10, 50 e 100 reais. O valor mínimo é\n",
    "de 10 reais e o máximo de 600 reais. O programa não deve se preocupar com a quantidade de notas existentes na máquina.\n",
    "- Exemplo 1: Para sacar a quantia de 256 reais, o programa fornece duas notas de 100, uma nota de 50, uma nota de 5 e uma nota de 1;\n",
    "- Exemplo 2: Para sacar a quantia de 399 reais, o programa fornece três notas de 100, uma nota de 50, quatro notas de 10, uma nota de 5 e quatro notas de 1."
   ]
  },
  {
   "cell_type": "code",
   "execution_count": 10,
   "metadata": {},
   "outputs": [
    {
     "name": "stdout",
     "output_type": "stream",
     "text": [
      "Digite o valor a ser sacado (entre 10 e 600 reais): 300\n",
      "3 nota(s) de cem\n"
     ]
    }
   ],
   "source": [
    "numero = input(\"Digite o valor a ser sacado (entre 10 e 600 reais): \")\n",
    "numeroStr = str(numero)\n",
    "qtNumero = len(numeroStr)\n",
    "nota100 = \"nota(s) de cem\"\n",
    "nota50 = \"nota(s) de cinquenta\"\n",
    "nota10 = \"nota(s) de dez\"\n",
    "nota5 = \"nota(s) de cinco\"\n",
    "nota1 = \"nota(s) de um\"\n",
    " \n",
    "if qtNumero == 3:\n",
    "    centena = int(numeroStr[0:1])\n",
    "    dezena = int(numeroStr[1:2])\n",
    "    unidade = int(numeroStr[2:3])\n",
    "    print (centena, nota100)\n",
    "    if 0 < dezena < 5:\n",
    "        print (dezena, nota10)\n",
    "    if dezena == 5:\n",
    "        print (\"1\", nota50)\n",
    "    if dezena > 5:\n",
    "        print (\"1\", nota50)\n",
    "        print ((dezena - 5), nota10)\n",
    "    if 0 < unidade < 5:\n",
    "        print (unidade, nota1)\n",
    "    if unidade == 5:\n",
    "        print (unidade, nota5)\n",
    "    if unidade > 5:\n",
    "        print (\"1\", nota5)\n",
    "        print ((unidade - 5), nota1)\n"
   ]
  },
  {
   "cell_type": "markdown",
   "metadata": {},
   "source": [
    "11.Faça um programa que faça 5 perguntas para uma pessoa sobre um crime. As perguntas são:\n",
    "\"Telefonou para a vítima?\"\n",
    "\"Esteve no local do crime?\"\n",
    "\"Mora perto da vítima?\"\n",
    "\"Devia para a vítima?\"\n",
    "\"Já trabalhou com a vítima?\"\n",
    "O programa deve no final emitir uma classificação sobre a participação da pessoa no crime. Se a pessoa responder positivamente a 2 questões ela deve ser classificada como \"Suspeita\", entre 3 e 4 como \"Cúmplice\" e 5 como \"Assassino\". Caso contrário, ele será classificado como \"Inocente\"."
   ]
  },
  {
   "cell_type": "code",
   "execution_count": 11,
   "metadata": {
    "scrolled": true
   },
   "outputs": [
    {
     "name": "stdout",
     "output_type": "stream",
     "text": [
      "Telefonou para a vitima?(SIM OU NAO) SIM\n",
      "Esteve no local do crime?(SIM OU NAO) SIM\n",
      "Mora perto da vitima?(SIM OU NAO) SIM\n",
      "Devia para a vitima?(SIM OU NAO) NAO\n",
      "Já trabalhou com a vitima?(SIM OU NAO) SIM\n",
      "Cúmplice\n"
     ]
    }
   ],
   "source": [
    "q1 = input(\"Telefonou para a vitima?(SIM OU NAO) \")\n",
    "q2 = input(\"Esteve no local do crime?(SIM OU NAO) \")\n",
    "q3 = input(\"Mora perto da vitima?(SIM OU NAO) \")\n",
    "q4 = input(\"Devia para a vitima?(SIM OU NAO) \")\n",
    "q5 = input(\"Já trabalhou com a vitima?(SIM OU NAO) \")\n",
    "\n",
    "lista = [q1,q2,q3,q4,q5]\n",
    "resultado = lista.count(\"sim\") or lista.count(\"SIM\") \n",
    "if resultado == 2:\n",
    "    print(\"Suspeita\")\n",
    "elif resultado == 3 or resultado == 4:\n",
    "    print(\"Cúmplice\") \n",
    "elif resultado == 5:\n",
    "    print(\"Assassino\")\n",
    "else:\n",
    "    print(\"Inocente\")"
   ]
  },
  {
   "cell_type": "markdown",
   "metadata": {},
   "source": [
    "12.Uma fruteira está vendendo frutas com a seguinte tabela de preços:\n",
    "Até 5 Kg Acima de 5 Kg\n",
    "Morango R$ 2,50 por Kg R$ 2,20 por Kg\n",
    "Maçã R$ 1,80 por Kg R$ 1,50 por Kg\n",
    "Se o cliente comprar mais de 8 Kg em frutas ou o valor total da compra ultrapassar R$ 25,00, receberá ainda um desconto de 10% sobre este total. Escreva um algoritmo para ler a quantidade (em Kg) de morangos e a quantidade (em Kg) de maças adquiridas e escreva o valor a ser pago pelo cliente."
   ]
  },
  {
   "cell_type": "code",
   "execution_count": 12,
   "metadata": {},
   "outputs": [
    {
     "name": "stdout",
     "output_type": "stream",
     "text": [
      "Quantos kg de morango: 5\n",
      "Quantos kg de maça: 9\n",
      "Total a pagar R$ 23.40\n"
     ]
    }
   ],
   "source": [
    "precoMorango1 = 2.50\n",
    "precoMorango2 = 2.20\n",
    "precoMaca1 = 1.80\n",
    "precoMaca2 = 1.50\n",
    "\n",
    "qtdMorango = int(input(\"Quantos kg de morango: \"))\n",
    "qtdMaca = int(input(\"Quantos kg de maça: \"))\n",
    " \n",
    "if qtdMorango <= 5:\n",
    "    totalApagarMorango = (qtdMorango * precoMorango1)\n",
    "else:\n",
    "    totalApagarMorango = (qtdMorango * precoMorango2)\n",
    "    \n",
    "if qtdMaca <= 5:\n",
    "    totalApagarMaca = (qtdMaca * precoMaca1)\n",
    "else:\n",
    "    totalApagarMaca = (qtdMaca * precoMaca2)\n",
    "\n",
    "totalApagar = totalApagarMorango + totalApagarMaca\n",
    " \n",
    "if (qtdMorango + qtdMaca) > 8 or totalApagar > 25.00:\n",
    "    totalApagar = totalApagar - totalApagar * 0.10\n",
    "    \n",
    "print (\"Total a pagar R$ %.2f\" % (totalApagar))"
   ]
  },
  {
   "cell_type": "markdown",
   "metadata": {},
   "source": [
    "13.Faça um programa que peça uma nota, entre zero e dez. Mostre uma mensagem\n",
    "caso o valor seja inválido e continue pedindo até que o usuário informe um valor\n",
    "válido."
   ]
  },
  {
   "cell_type": "code",
   "execution_count": 13,
   "metadata": {},
   "outputs": [
    {
     "name": "stdout",
     "output_type": "stream",
     "text": [
      "Digite uma nota de 0 à 10: 6\n",
      "O número 6 está no intervalo!\n"
     ]
    }
   ],
   "source": [
    "nota = int(input(\"Digite uma nota de 0 à 10: \"))\n",
    "while 0 > nota or 10 < nota:\n",
    "    nota = int(input(\"Digite uma nota de 0 à 10: \"))\n",
    "else:\n",
    "    print(\"O número\",nota,\"está no intervalo!\")"
   ]
  },
  {
   "cell_type": "markdown",
   "metadata": {},
   "source": [
    "13.Faça um programa que leia e valide as seguintes informações:\n",
    "Nome: maior que 3 caracteres;\n",
    "Idade: entre 0 e 150;\n",
    "Salário: maior que zero;\n",
    "Sexo: 'f' ou 'm';\n",
    "Estado Civil: 's', 'c', 'v', 'd';"
   ]
  },
  {
   "cell_type": "code",
   "execution_count": 14,
   "metadata": {},
   "outputs": [
    {
     "name": "stdout",
     "output_type": "stream",
     "text": [
      "Digite seu nome: Henrique\n",
      "Digite sua idade: 20\n",
      "Digite seu salario: 1000\n",
      "Digite seu sexo m (masculino) ou f (feminino): m\n",
      "Digite seu estado civil s (solteiro), c (casado), v (viuvo) ou d (divorciado): s\n"
     ]
    }
   ],
   "source": [
    "nome = \"a\"\n",
    "while len(nome) <= 3:\n",
    "    nome = input(\"Digite seu nome: \")\n",
    "\n",
    "idade = -1\n",
    "while idade < 0 or idade > 150:\n",
    "    idade = int(input(\"Digite sua idade: \"))\n",
    "\n",
    "salario = 0\n",
    "while salario <= 0:\n",
    "    salario = float(input(\"Digite seu salario: \"))\n",
    "\n",
    "sexo = \"p\"\n",
    "while sexo != \"f\" and sexo != \"m\":\n",
    "    sexo = input(\"Digite seu sexo m (masculino) ou f (feminino): \")\n",
    "\n",
    "estadoCivil = \"n\"\n",
    "while estadoCivil != \"s\" and estadoCivil != \"c\" and estadoCivil != \"v\" and estadoCivil != \"d\":\n",
    "    estadoCivil = input(\"Digite seu estado civil s (solteiro), c (casado), v (viuvo) ou d (divorciado): \")"
   ]
  },
  {
   "cell_type": "markdown",
   "metadata": {},
   "source": [
    "14.Faça um programa que leia 5 números e informe o maior número."
   ]
  },
  {
   "cell_type": "code",
   "execution_count": 15,
   "metadata": {},
   "outputs": [
    {
     "name": "stdout",
     "output_type": "stream",
     "text": [
      "Digite o Primeiro número: 5\n",
      "Digite o Segundo número: 6\n",
      "Digite o Terceiro número: 9\n",
      "Digite o Quarto número: 2\n",
      "Digite o Quinto número: 0\n",
      "O maior número é 9\n"
     ]
    }
   ],
   "source": [
    "lista = []\n",
    "\n",
    "while True:\n",
    "    lista.append(int(input('Digite o Primeiro número: ')))\n",
    "    lista.append(int(input('Digite o Segundo número: ')))\n",
    "    lista.append(int(input('Digite o Terceiro número: ')))\n",
    "    lista.append(int(input('Digite o Quarto número: ')))\n",
    "    lista.append(int(input('Digite o Quinto número: ')))\n",
    "    break\n",
    "\n",
    "print(\"O maior número é\", max(lista))"
   ]
  },
  {
   "cell_type": "markdown",
   "metadata": {},
   "source": [
    "15.Faça um programa que leia 5 números e informe a soma e a média dos números."
   ]
  },
  {
   "cell_type": "code",
   "execution_count": 16,
   "metadata": {},
   "outputs": [
    {
     "name": "stdout",
     "output_type": "stream",
     "text": [
      "Digite o Primeiro número: 9\n",
      "Digite o Segundo número: 5\n",
      "Digite o Terceiro número: 32\n",
      "Digite o Quarto número: 5\n",
      "Digite o Quinto número: 1\n",
      "A soma dos números é 52\n",
      "A média é 10.4\n"
     ]
    }
   ],
   "source": [
    "lista = []\n",
    "\n",
    "while True:\n",
    "    lista.append(int(input('Digite o Primeiro número: ')))\n",
    "    lista.append(int(input('Digite o Segundo número: ')))\n",
    "    lista.append(int(input('Digite o Terceiro número: ')))\n",
    "    lista.append(int(input('Digite o Quarto número: ')))\n",
    "    lista.append(int(input('Digite o Quinto número: ')))\n",
    "    break\n",
    "    \n",
    "soma = sum(lista)\n",
    "media = soma/5\n",
    "\n",
    "print(\"A soma dos números é\", soma)\n",
    "print(\"A média é\", media)"
   ]
  },
  {
   "cell_type": "markdown",
   "metadata": {},
   "source": [
    "16.Faça um programa que imprima na tela apenas os números ímpares entre 1 e 50."
   ]
  },
  {
   "cell_type": "code",
   "execution_count": 17,
   "metadata": {},
   "outputs": [
    {
     "name": "stdout",
     "output_type": "stream",
     "text": [
      "1\n",
      "3\n",
      "5\n",
      "7\n",
      "9\n",
      "11\n",
      "13\n",
      "15\n",
      "17\n",
      "19\n",
      "21\n",
      "23\n",
      "25\n",
      "27\n",
      "29\n",
      "31\n",
      "33\n",
      "35\n",
      "37\n",
      "39\n",
      "41\n",
      "43\n",
      "45\n",
      "47\n",
      "49\n"
     ]
    }
   ],
   "source": [
    "for i in range(1,50):\n",
    "    if i % 2 != 0:\n",
    "        print(i)\n",
    "        i += 1"
   ]
  },
  {
   "cell_type": "markdown",
   "metadata": {},
   "source": [
    "17.Desenvolva um gerador de tabuada, capaz de gerar a tabuada de qualquer\n",
    "número inteiro entre 1 a 10. O usuário deve informar de qual numero ele deseja ver\n",
    "a tabuada. A saída deve ser conforme o exemplo abaixo:\n",
    "Tabuada de 5:\n",
    "5 X 1 = 5\n",
    "5 X 2 = 10\n",
    "...\n",
    "5 X 10 = 50"
   ]
  },
  {
   "cell_type": "code",
   "execution_count": 18,
   "metadata": {},
   "outputs": [
    {
     "name": "stdout",
     "output_type": "stream",
     "text": [
      "Digite o número da tabuada: 9\n",
      "9 X 1 = 9\n",
      "9 X 2 = 18\n",
      "9 X 3 = 27\n",
      "9 X 4 = 36\n",
      "9 X 5 = 45\n",
      "9 X 6 = 54\n",
      "9 X 7 = 63\n",
      "9 X 8 = 72\n",
      "9 X 9 = 81\n",
      "9 X 10 = 90\n"
     ]
    }
   ],
   "source": [
    "tab = int(input('Digite o número da tabuada: '))  \n",
    "inicio = 1\n",
    "while(inicio <= 10):\n",
    "    print(\"{0} X {1} = {2}\".format(tab, inicio, (inicio * tab)))\n",
    "    inicio += 1"
   ]
  },
  {
   "cell_type": "markdown",
   "metadata": {},
   "source": [
    "18.A série de Fibonacci é formada pela seqüência 1,1,2,3,5,8,13,21,34,55,... Faça um\n",
    "programa capaz de gerar a série até o n−ésimo termo."
   ]
  },
  {
   "cell_type": "code",
   "execution_count": 19,
   "metadata": {},
   "outputs": [
    {
     "name": "stdout",
     "output_type": "stream",
     "text": [
      "Digite até qual termo deseja: 6\n",
      "1\n",
      "1\n",
      "2\n",
      "3\n",
      "5\n",
      "8\n"
     ]
    }
   ],
   "source": [
    "termo = 0\n",
    "while (termo <= 0):\n",
    "    termo = int(input(\"Digite até qual termo deseja: \"))\n",
    "    if (termo <= 0):\n",
    "        print(\"O termo deve ser positivo!\")\n",
    "\n",
    "primeiro = 1\n",
    "print (primeiro)\n",
    "segundo = 1\n",
    "for i in range(1, termo):\n",
    "    print(segundo)\n",
    "    terceiro = primeiro + segundo\n",
    "    primeiro = segundo\n",
    "    segundo = terceiro"
   ]
  },
  {
   "cell_type": "markdown",
   "metadata": {},
   "source": [
    "19.Faça um programa que calcule o fatorial de um número inteiro fornecido pelo\n",
    "usuário. Ex.: 5!=5.4.3.2.1=120"
   ]
  },
  {
   "cell_type": "code",
   "execution_count": 20,
   "metadata": {},
   "outputs": [
    {
     "name": "stdout",
     "output_type": "stream",
     "text": [
      "Você quer o fatorial de qual número: 6\n",
      "6!=  [6, 5, 4, 3, 2] * 1 = 720\n"
     ]
    }
   ],
   "source": [
    "num = 0\n",
    "while (num <= 0):\n",
    "    num = int(input(\"Você quer o fatorial de qual número: \"))\n",
    "    if (num <= 0):\n",
    "        print (\"O número deve ser positivo!\")\n",
    "\n",
    "fatorial = 1\n",
    "for i in reversed(range(2, num + 1)):\n",
    "    fatorial *= i\n",
    "\n",
    "rep = []\n",
    "for x in reversed(range(2, num + 1)):\n",
    "    rep.append(x)\n",
    "\n",
    "print (f\"{num}!= \", rep[::], f\"* 1 = {fatorial}\")"
   ]
  },
  {
   "cell_type": "markdown",
   "metadata": {},
   "source": [
    "20.O Sr. Manoel Joaquim possui uma grande loja de artigos de R$ 1,99, com cerca\n",
    "de 10 caixas. Para agilizar o cálculo de quanto cada cliente deve pagar ele\n",
    "desenvolveu um tabela que contém o número de itens que o cliente comprou e ao\n",
    "lado o valor da conta. Desta forma a atendente do caixa precisa apenas contar\n",
    "quantos itens o cliente está levando e olhar na tabela de preços. Você foi contratado\n",
    "para desenvolver o programa que monta esta tabela de preços, que conterá os\n",
    "preços de 1 até 50 produtos, conforme o exemplo abaixo:\n",
    "\n",
    "Lojas Quase Dois - Tabela de preços\n",
    "1 - R$ 1.99\n",
    "2 - R$ 3.98\n",
    "...\n",
    "50 - R$ 99.50"
   ]
  },
  {
   "cell_type": "code",
   "execution_count": 21,
   "metadata": {},
   "outputs": [
    {
     "name": "stdout",
     "output_type": "stream",
     "text": [
      "Lojas Quase Dois - Tabelas de preços\n",
      "01 - R$ 1.99\n",
      "02 - R$ 3.98\n",
      "03 - R$ 5.97\n",
      "04 - R$ 7.96\n",
      "05 - R$ 9.95\n",
      "06 - R$ 11.94\n",
      "07 - R$ 13.93\n",
      "08 - R$ 15.92\n",
      "09 - R$ 17.91\n",
      "10 - R$ 19.90\n",
      "11 - R$ 21.89\n",
      "12 - R$ 23.88\n",
      "13 - R$ 25.87\n",
      "14 - R$ 27.86\n",
      "15 - R$ 29.85\n",
      "16 - R$ 31.84\n",
      "17 - R$ 33.83\n",
      "18 - R$ 35.82\n",
      "19 - R$ 37.81\n",
      "20 - R$ 39.80\n",
      "21 - R$ 41.79\n",
      "22 - R$ 43.78\n",
      "23 - R$ 45.77\n",
      "24 - R$ 47.76\n",
      "25 - R$ 49.75\n",
      "26 - R$ 51.74\n",
      "27 - R$ 53.73\n",
      "28 - R$ 55.72\n",
      "29 - R$ 57.71\n",
      "30 - R$ 59.70\n",
      "31 - R$ 61.69\n",
      "32 - R$ 63.68\n",
      "33 - R$ 65.67\n",
      "34 - R$ 67.66\n",
      "35 - R$ 69.65\n",
      "36 - R$ 71.64\n",
      "37 - R$ 73.63\n",
      "38 - R$ 75.62\n",
      "39 - R$ 77.61\n",
      "40 - R$ 79.60\n",
      "41 - R$ 81.59\n",
      "42 - R$ 83.58\n",
      "43 - R$ 85.57\n",
      "44 - R$ 87.56\n",
      "45 - R$ 89.55\n",
      "46 - R$ 91.54\n",
      "47 - R$ 93.53\n",
      "48 - R$ 95.52\n",
      "49 - R$ 97.51\n",
      "50 - R$ 99.50\n"
     ]
    }
   ],
   "source": [
    "x = 1\n",
    "valor = 1.99\n",
    "\n",
    "print(\"Lojas Quase Dois - Tabelas de preços\")\n",
    "\n",
    "for x in range(1,51):\n",
    "    print(\"%02.d - R$ %.2f\" % (x,x*valor))\n",
    "    x += 1"
   ]
  },
  {
   "cell_type": "markdown",
   "metadata": {},
   "source": [
    "21.O Sr. Manoel Joaquim acaba de adquirir uma panificadora e pretende implantar\n",
    "a metodologia da tabelinha, que já é um sucesso na sua loja de 1,99. Você foi\n",
    "contratado para desenvolver o programa que monta a tabela de preços de pães, de\n",
    "1 até 50 pães, a partir do preço do pão informado pelo usuário, conforme o exemplo\n",
    "abaixo:\n",
    "Preço do pão: R$ 0.18\n",
    "Panificadora Pão de Ontem - Tabela de preços\n",
    "1 - R$ 0.18\n",
    "2 - R$ 0.36\n",
    "...\n",
    "50 - R$ 9.00"
   ]
  },
  {
   "cell_type": "code",
   "execution_count": 22,
   "metadata": {},
   "outputs": [
    {
     "name": "stdout",
     "output_type": "stream",
     "text": [
      "Panificadora Pão de Ontem - Tabela de preços\n",
      "01 - R$ 0.18\n",
      "02 - R$ 0.36\n",
      "03 - R$ 0.54\n",
      "04 - R$ 0.72\n",
      "05 - R$ 0.90\n",
      "06 - R$ 1.08\n",
      "07 - R$ 1.26\n",
      "08 - R$ 1.44\n",
      "09 - R$ 1.62\n",
      "10 - R$ 1.80\n",
      "11 - R$ 1.98\n",
      "12 - R$ 2.16\n",
      "13 - R$ 2.34\n",
      "14 - R$ 2.52\n",
      "15 - R$ 2.70\n",
      "16 - R$ 2.88\n",
      "17 - R$ 3.06\n",
      "18 - R$ 3.24\n",
      "19 - R$ 3.42\n",
      "20 - R$ 3.60\n",
      "21 - R$ 3.78\n",
      "22 - R$ 3.96\n",
      "23 - R$ 4.14\n",
      "24 - R$ 4.32\n",
      "25 - R$ 4.50\n",
      "26 - R$ 4.68\n",
      "27 - R$ 4.86\n",
      "28 - R$ 5.04\n",
      "29 - R$ 5.22\n",
      "30 - R$ 5.40\n",
      "31 - R$ 5.58\n",
      "32 - R$ 5.76\n",
      "33 - R$ 5.94\n",
      "34 - R$ 6.12\n",
      "35 - R$ 6.30\n",
      "36 - R$ 6.48\n",
      "37 - R$ 6.66\n",
      "38 - R$ 6.84\n",
      "39 - R$ 7.02\n",
      "40 - R$ 7.20\n",
      "41 - R$ 7.38\n",
      "42 - R$ 7.56\n",
      "43 - R$ 7.74\n",
      "44 - R$ 7.92\n",
      "45 - R$ 8.10\n",
      "46 - R$ 8.28\n",
      "47 - R$ 8.46\n",
      "48 - R$ 8.64\n",
      "49 - R$ 8.82\n",
      "50 - R$ 9.00\n"
     ]
    }
   ],
   "source": [
    "x = 1\n",
    "valor = 0.18\n",
    "\n",
    "print(\"Panificadora Pão de Ontem - Tabela de preços\")\n",
    "\n",
    "for x in range(1,51):\n",
    "    print(\"%02.d - R$ %.2f\" % (x,x*valor))\n",
    "    x += 1"
   ]
  },
  {
   "cell_type": "markdown",
   "metadata": {},
   "source": [
    "22.O Sr. Manoel Joaquim expandiu seus negócios para além dos negócios de 1,99 e agora possui uma loja de conveniências. Faça um programa que implemente uma caixa registradora rudimentar. O programa deverá receber um número desconhecido de valores referentes aos preços das mercadorias. Um valor zero deve ser informado pelo operador para indicar o final da compra. O programa deve então mostrar o total da compra e perguntar o valor em dinheiro que o cliente forneceu, para então calcular e mostrar o valor do troco. Após esta operação, o programa deverá voltar ao ponto inicial, para registrar a próxima compra. A saída deve ser\n",
    "conforme o exemplo abaixo:\n",
    "Lojas Tabajara\n",
    "Produto 1: R$ 2.20\n",
    "Produto 2: R$ 5.80\n",
    "Produto 3: R$ 0\n",
    "Total: R$ 9.00\n",
    "Dinheiro: R$ 20.00\n",
    "Troco: R$ 11.00\n",
    "..."
   ]
  },
  {
   "cell_type": "code",
   "execution_count": 23,
   "metadata": {},
   "outputs": [
    {
     "name": "stdout",
     "output_type": "stream",
     "text": [
      "Lojas Tabajara\n",
      "Produto 1: R$ 6\n",
      "Produto 2: R$ 3\n",
      "Produto 3: R$ 9\n",
      "Produto 4: R$ 5\n",
      "Produto 5: R$ 2\n",
      "Produto 6: R$ 3\n",
      "Produto 7: R$ 6\n",
      "Produto 8: R$ 9\n",
      "Produto 9: R$ 8\n",
      "Produto 10: R$ 4\n",
      "Produto 11: R$ 0\n",
      "Total: R$ 55.00\n",
      "Dinheiro: R$ 100\n",
      "Troco: R$ 45.00 \n",
      "...\n"
     ]
    }
   ],
   "source": [
    "soma = 0.00\n",
    "quantidade = 1\n",
    "precoMercadoria = 1\n",
    "\n",
    "print(\"Lojas Tabajara\")\n",
    "\n",
    "while (precoMercadoria != 0):\n",
    "    precoMercadoria = float(input('Produto %d: R$ ' % (quantidade)))\n",
    "    quantidade = quantidade + 1\n",
    "    soma += precoMercadoria\n",
    "\n",
    "print (\"Total: R$ %.2f\" % soma)\n",
    "pagamento = float(input(\"Dinheiro: R$ \"))\n",
    "\n",
    "print (\"Troco: R$ %.2f \\n...\" % (pagamento - soma))"
   ]
  },
  {
   "cell_type": "markdown",
   "metadata": {},
   "source": [
    "23.Foi feita uma estatística em cinco cidades brasileiras para coletar dados sobre acidentes de trânsito. Foram obtidos os seguintes dados:\n",
    "- Código da cidade;\n",
    "- Número de veículos de passeio (em 1999);\n",
    "- Número de acidentes de trânsito com vítimas (em 1999).\n",
    "Deseja-se saber:\n",
    "- Qual o maior e menor índice de acidentes de transito e a que cidade pertence;\n",
    "- Qual a média de veículos nas cinco cidades juntas;\n",
    "- Qual a média de acidentes de trânsito nas cidades com menos de 2.000 veículos de passeio."
   ]
  },
  {
   "cell_type": "code",
   "execution_count": 24,
   "metadata": {},
   "outputs": [
    {
     "name": "stdout",
     "output_type": "stream",
     "text": [
      "Informe o código da cidade 1: 022\n",
      "Informe o número de veiculos de passeio (em 1999) da cidade 1: 2000\n",
      "Informe a quantidade de acidentes (em 1999) da cidade 1: 10\n",
      "Informe o código da cidade 2: 011\n",
      "Informe o número de veiculos de passeio (em 1999) da cidade 2: 5000\n",
      "Informe a quantidade de acidentes (em 1999) da cidade 2: 30\n",
      "Informe o código da cidade 3: 033\n",
      "Informe o número de veiculos de passeio (em 1999) da cidade 3: 7000\n",
      "Informe a quantidade de acidentes (em 1999) da cidade 3: 50\n",
      "Informe o código da cidade 4: 10000\n",
      "Informe o número de veiculos de passeio (em 1999) da cidade 4: 200\n",
      "Informe a quantidade de acidentes (em 1999) da cidade 4: 3500\n",
      "Informe o código da cidade 5: 69\n",
      "Informe o número de veiculos de passeio (em 1999) da cidade 5: 32\n",
      "Informe a quantidade de acidentes (em 1999) da cidade 5: 2000\n",
      "A cidade com maior indice de acidentes é a cidade 69 com 62.50 %\n",
      "A cidade com menor indice de acidentes é a cidade 022 com 0.01 %\n",
      "A media de veiculos nas cidades é 2846.40 %\n",
      "A media de acidentes de transito nas cidades com menos de 2.000 veículos é 2750.00 %\n"
     ]
    }
   ],
   "source": [
    "somaVeiculos = 0\n",
    "somaAcidentes = 0\n",
    "somaAcidentesMenos2Mil = 0\n",
    "totalCidadesMenos2Mil = 0\n",
    "cidade = 1\n",
    "\n",
    "for i in range(0, 5):\n",
    "    codigo = input(\"Informe o código da cidade %d: \" % cidade)\n",
    "    veiculos = int(input(\"Informe o número de veiculos de passeio (em 1999) da cidade %d: \" % cidade))\n",
    "    acidentes = int(input(\"Informe a quantidade de acidentes (em 1999) da cidade %d: \" % cidade))\n",
    "    cidade += 1\n",
    "    \n",
    "    indiceAcidentes = acidentes / (veiculos)\n",
    "    somaVeiculos += veiculos\n",
    "    \n",
    "    if ('maisAcidentes' not in vars()) or (indiceAcidentes > maisAcidentes):\n",
    "        maisAcidentes = indiceAcidentes\n",
    "        codigoMaisAcidentes = codigo\n",
    "    if ('menosAcidentes' not in vars()) or (indiceAcidentes < menosAcidentes):\n",
    "        menosAcidentes = indiceAcidentes\n",
    "        codigoMenosAcidentes = codigo\n",
    "\n",
    "    if (veiculos < 2000):\n",
    "        somaAcidentesMenos2Mil += acidentes\n",
    "        totalCidadesMenos2Mil += 1\n",
    "\n",
    "print (f\"A cidade com maior indice de acidentes é a cidade {codigoMaisAcidentes} com %.2f\" % (maisAcidentes),\"%\")\n",
    "print (f\"A cidade com menor indice de acidentes é a cidade {codigoMenosAcidentes} com %.2f\" % (menosAcidentes),\"%\")\n",
    "print (\"A media de veiculos nas cidades é %.2f\" % (somaVeiculos / 5.0),\"%\")\n",
    "print (\"A media de acidentes de transito nas cidades com menos de 2.000 veículos é %.2f\" % (somaAcidentesMenos2Mil / (totalCidadesMenos2Mil)),\"%\")"
   ]
  },
  {
   "cell_type": "markdown",
   "metadata": {},
   "source": [
    "24.Faça um programa que receba o valor de uma dívida e mostre uma tabela com os seguintes dados: valor da dívida, valor dos juros, quantidade de parcelas e valor da parcela.\n",
    "Os juros e a quantidade de parcelas seguem a tabela abaixo:\n",
    "Quantidade de Parcelas % de Juros sobre o valor inicial da dívida\n",
    "1  0\n",
    "3  10\n",
    "6  15\n",
    "9  20\n",
    "12 25\n",
    "Exemplo de saída do programa:\n",
    "Valor da Dívida Valor dos Juros Quantidade de Parcelas Valor da Parcela\n",
    "R$ 1.000,00  0    1  R$ 1.000,00\n",
    "R$ 1.100,00  100  3  R$ 366,00\n",
    "R$ 1.150,00  150  6  R$ 191,67"
   ]
  },
  {
   "cell_type": "code",
   "execution_count": 13,
   "metadata": {},
   "outputs": [
    {
     "name": "stdout",
     "output_type": "stream",
     "text": [
      "Informe o valor da divida: 1000\n",
      "Valor da divida\tValor dos Juros\tQuantidade de Parcelas\tValor da Parcela\n",
      "R$ 1000.00 \tR$ 0.00 \t1 \t\t\tR$ 1000.00\n",
      "R$ 1100.00 \tR$ 100.00 \t3 \t\t\tR$ 366.67\n",
      "R$ 1150.00 \tR$ 150.00 \t6 \t\t\tR$ 191.67\n",
      "R$ 1200.00 \tR$ 200.00 \t9 \t\t\tR$ 133.33\n",
      "R$ 1250.00 \tR$ 250.00 \t12 \t\t\tR$ 104.17\n"
     ]
    }
   ],
   "source": [
    "divida = float(input('Informe o valor da divida: '))\n",
    "\n",
    "print(\"Valor da divida\\tValor dos Juros\\tQuantidade de Parcelas\\tValor da Parcela\")\n",
    "    \n",
    "juros = 0\n",
    "for i in [1, 3, 6, 9, 12]:\n",
    "    valorJuros = (divida * (juros / 100.0))\n",
    "    valorDivida = divida + valorJuros\n",
    "    valorParcela = valorDivida / float(i)\n",
    "    print (\"R$ %.2f \\tR$ %.2f \\t%i \\t\\t\\tR$ %.2f\" % (valorDivida, valorJuros, i, valorParcela))\n",
    "    if (i == 1):\n",
    "        juros = 10\n",
    "    else:\n",
    "        juros += 5"
   ]
  },
  {
   "cell_type": "markdown",
   "metadata": {},
   "source": [
    "25.Faça um programa que mostre os n termos da Série a seguir:\n",
    "S = 1/1 + 2/3 + 3/5 + 4/7 + 5/9 + ... + n/m.\n",
    "Imprima no final a soma da série."
   ]
  },
  {
   "cell_type": "code",
   "execution_count": 57,
   "metadata": {},
   "outputs": [
    {
     "name": "stdout",
     "output_type": "stream",
     "text": [
      "Informe a quantidade de termos que deseja: 10\n",
      "S = 1/3\n",
      "S = 2/5\n",
      "S = 3/7\n",
      "S = 4/9\n",
      "S = 5/11\n",
      "S = 6/13\n",
      "S = 7/15\n",
      "S = 8/17\n",
      "S = 9/19\n",
      "S = 10/21\n",
      "Soma da série é 6.07\n"
     ]
    }
   ],
   "source": [
    "termos = int(input(\"Informe a quantidade de termos que deseja: \"))\n",
    "\n",
    "s = 0.0\n",
    "denominador = 1\n",
    "for i in range(1, termos + 1):\n",
    "    s += i / denominador\n",
    "    denominador += 2\n",
    "    print (f\"S = {i}/{denominador}\")\n",
    "print (\"Soma da série é %.2f\" % s)"
   ]
  },
  {
   "cell_type": "code",
   "execution_count": null,
   "metadata": {},
   "outputs": [],
   "source": []
  }
 ],
 "metadata": {
  "kernelspec": {
   "display_name": "Python 3",
   "language": "python",
   "name": "python3"
  },
  "language_info": {
   "codemirror_mode": {
    "name": "ipython",
    "version": 3
   },
   "file_extension": ".py",
   "mimetype": "text/x-python",
   "name": "python",
   "nbconvert_exporter": "python",
   "pygments_lexer": "ipython3",
   "version": "3.6.4"
  }
 },
 "nbformat": 4,
 "nbformat_minor": 2
}
